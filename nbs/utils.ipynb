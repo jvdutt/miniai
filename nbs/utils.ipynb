{
 "cells": [
  {
   "cell_type": "code",
   "execution_count": 1,
   "id": "dcdc341e-34e7-4849-bd30-8693b533b37a",
   "metadata": {},
   "outputs": [],
   "source": [
    "#/export\n",
    "import random,math\n",
    "import numpy as np\n",
    "import matplotlib.pyplot as plt\n",
    "import pandas as pd\n",
    "import torch\n",
    "from functools import partial\n",
    "import sys,gc,traceback"
   ]
  },
  {
   "cell_type": "code",
   "execution_count": 5,
   "id": "94181939-b186-4a6d-9d4d-6176f1a9530b",
   "metadata": {},
   "outputs": [],
   "source": [
    "#/export \n",
    "class CancelBatchException(Exception):pass\n",
    "class CancelEpochException(Exception):pass\n",
    "class CancelFitException(Exception):pass"
   ]
  },
  {
   "cell_type": "code",
   "execution_count": null,
   "id": "5cc6ff76-aa28-4dd0-83dd-2ffcd2691f23",
   "metadata": {},
   "outputs": [],
   "source": [
    "#/export\n",
    "def set_seed(seed,deterministic=False):\n",
    "    torch.use_deterministic_algorithms(deterministic)\n",
    "    torch.manual_seed(seed)\n",
    "    random.seed(seed)\n",
    "    np.random.seed(seed)"
   ]
  },
  {
   "cell_type": "code",
   "execution_count": null,
   "id": "e6504c87-d50c-42d9-bd72-f60677207da4",
   "metadata": {},
   "outputs": [],
   "source": [
    "#/export\n",
    "def to_cpu(x):\n",
    "    if isinstance(x, dict): return {k:to_cpu(v) for k,v in x.items()}\n",
    "    if isinstance(x, list): return [to_cpu(o) for o in x]\n",
    "    if isinstance(x, tuple): return tuple(to_cpu(list(x)))\n",
    "    return x.detach().cpu()"
   ]
  },
  {
   "cell_type": "code",
   "execution_count": null,
   "id": "18906211-8da6-44f7-8b7e-4562135cdeab",
   "metadata": {},
   "outputs": [],
   "source": [
    "#/export\n",
    "def _clean_ipython_hist():\n",
    "    # Code in this function mainly copied from IPython source\n",
    "    if not 'get_ipython' in globals(): return\n",
    "    ip = get_ipython()\n",
    "    user_ns = ip.user_ns\n",
    "    ip.displayhook.flush()\n",
    "    pc = ip.displayhook.prompt_count + 1\n",
    "    for n in range(1, pc): user_ns.pop('_i'+repr(n),None)\n",
    "    user_ns.update(dict(_i='',_ii='',_iii=''))\n",
    "    hm = ip.history_manager\n",
    "    hm.input_hist_parsed[:] = [''] * pc\n",
    "    hm.input_hist_raw[:] = [''] * pc\n",
    "    hm._i = hm._ii = hm._iii = hm._i00 =  ''\n",
    "    \n",
    "\n",
    "def _clean_tb():\n",
    "    # h/t Piotr Czapla\n",
    "    if hasattr(sys, 'last_traceback'):\n",
    "        traceback.clear_frames(sys.last_traceback)\n",
    "        delattr(sys, 'last_traceback')\n",
    "    if hasattr(sys, 'last_type'): delattr(sys, 'last_type')\n",
    "    if hasattr(sys, 'last_value'): delattr(sys, 'last_value')\n",
    "    \n",
    "    \n",
    "def clean_mem():\n",
    "    _clean_tb()\n",
    "    _clean_ipython_hist()\n",
    "    gc.collect()\n",
    "    torch.cuda.empty_cache()"
   ]
  },
  {
   "cell_type": "code",
   "execution_count": null,
   "id": "45bb61dc-0fd1-4ca3-b79d-f34051115dff",
   "metadata": {},
   "outputs": [],
   "source": [
    "#/export\n",
    "class Hook():\n",
    "    def __init__(self,module,func,pre=False):\n",
    "        if pre:self.hook = module.register_forward_pre_hook(partial(fun,self))\n",
    "        else:self.hook = module.register_forward_hook(partial(func,self))\n",
    "    def remove(self):self.hook.remove()\n",
    "    def __del__(self):self.remove()"
   ]
  },
  {
   "cell_type": "code",
   "execution_count": null,
   "id": "2b21cd8b-f314-4423-b7ab-9fee22a60283",
   "metadata": {},
   "outputs": [],
   "source": [
    "#/export\n",
    "class SingleBatchCB():\n",
    "    def after_predict(self):\n",
    "        raise CancelFitException\n",
    "\n",
    "def summary(learner,dl):\n",
    "    learner.fit(dl,1,tmp_cbs=[SingleBatchCB()])\n",
    "    mod_names,inp_shapes,out_shapes,num_params=[],[],[],[]\n",
    "    flops=[]\n",
    "    \n",
    "    def _flops(x, h, w):\n",
    "        if x.dim()<3: return x.numel()\n",
    "        if x.dim()==4: return x.numel()*h*w\n",
    "\n",
    "    def _shape(x):\n",
    "        if isinstance(x, dict): return {k:_shape(v) for k,v in x.items()}\n",
    "        if isinstance(x, list): return [_shape(o) for o in x]\n",
    "        if isinstance(x, tuple): return tuple(_shape(list(x)))\n",
    "        return x.shape       \n",
    "\n",
    "    def hook_func(h,mod,inp,out):\n",
    "        mod_names.append(type(mod).__name__)\n",
    "        inp_shapes.append(_shape(inp))\n",
    "        out_shapes.append(_shape(out))\n",
    "        num_params.append(sum(p.numel() for p in mod.parameters()))\n",
    "        *_,h,w = out.shape\n",
    "        flops.append(sum(_flops(o, h, w) for o in mod.parameters())/1e6)\n",
    "    hooks = [Hook(m,hook_func) for m in learner.model.children()]\n",
    "    with torch.no_grad():learner.predict()\n",
    "    for h in hooks:h.remove()\n",
    "    tot_params = sum(num_params)\n",
    "    print(f\"Total number of parameters:{tot_params}\")\n",
    "    print(f\"Total number of parameters:{sum(flops)}\")\n",
    "    d = {\"Module\":mod_names,\"InputShape\":inp_shapes,\"OutputShape\":out_shapes,\"NumParams\":num_params}\n",
    "    d[\"PercentageParams\"]=[p/tot_params for p in num_params]\n",
    "    d[\"Mflops\"]=flops\n",
    "    return pd.DataFrame(d)"
   ]
  },
  {
   "cell_type": "code",
   "execution_count": null,
   "id": "13b5ac0a-d243-46d3-86f3-2013893003f5",
   "metadata": {},
   "outputs": [],
   "source": [
    "#/export\n",
    "def show_images(imgs,labels=None,n=15,imgs_per_row = 5,scale=1,tfmx = lambda x:x,tfmy = lambda y:str(y),**kwargs):\n",
    "    if labels is not None:assert(len(imgs)==len(labels))\n",
    "    idxs = random.sample(range(len(imgs)),n)\n",
    "    num_rows,num_cols = math.ceil(n/imgs_per_row),imgs_per_row\n",
    "    figsize=(num_cols*scale,num_rows*scale)\n",
    "    fig, axs = plt.subplots(nrows=num_rows, ncols=num_cols, squeeze=False,figsize=figsize)\n",
    "    for row_idx in range(num_rows):\n",
    "        for col_idx in range(num_cols):\n",
    "            k = row_idx*imgs_per_row+col_idx\n",
    "            if k>=n:break\n",
    "            ax = axs[row_idx, col_idx]\n",
    "            img,label = imgs[idxs[k]],None if labels is None else labels[idxs[k]]\n",
    "            ax.imshow(np.asarray(tfmx(img)), **kwargs)\n",
    "            ax.set(xticklabels=[], yticklabels=[], xticks=[], yticks=[],title=tfmy(label))\n",
    "            \n",
    "    plt.tight_layout()"
   ]
  },
  {
   "cell_type": "code",
   "execution_count": 8,
   "id": "572e86aa-2222-43f7-a6a4-d1458af47f73",
   "metadata": {},
   "outputs": [],
   "source": [
    "from nb_utils import exportnb"
   ]
  },
  {
   "cell_type": "code",
   "execution_count": 9,
   "id": "032e119c-72a9-4324-a7e8-cf94c45c3c5b",
   "metadata": {},
   "outputs": [],
   "source": [
    "exportnb(\"utils.ipynb\",\"utils.py\")"
   ]
  },
  {
   "cell_type": "code",
   "execution_count": null,
   "id": "a9fb9dac-207b-4360-928e-a06c83619fce",
   "metadata": {},
   "outputs": [],
   "source": []
  }
 ],
 "metadata": {
  "kernelspec": {
   "display_name": "Python 3 (ipykernel)",
   "language": "python",
   "name": "python3"
  },
  "language_info": {
   "codemirror_mode": {
    "name": "ipython",
    "version": 3
   },
   "file_extension": ".py",
   "mimetype": "text/x-python",
   "name": "python",
   "nbconvert_exporter": "python",
   "pygments_lexer": "ipython3",
   "version": "3.10.9"
  }
 },
 "nbformat": 4,
 "nbformat_minor": 5
}
